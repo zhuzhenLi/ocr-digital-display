{
 "cells": [
  {
   "cell_type": "code",
   "execution_count": 43,
   "metadata": {},
   "outputs": [],
   "source": [
    "# imports\n",
    "import cv2 as cv\n",
    "import numpy as np\n",
    "import imageio\n",
    "import imgaug as ia\n",
    "from imgaug import augmenters as iaa\n",
    "from imgaug import parameters as iap\n",
    "from matplotlib.pyplot import *\n",
    "import matplotlib.pyplot as plt\n",
    "import matplotlib.patches as patches\n",
    "import random\n",
    "import os, shutil\n",
    "from shutil import copyfile\n",
    "from distutils.dir_util import copy_tree\n",
    "import xml.etree.ElementTree as ET\n",
    "import pdb\n",
    "import shutil\n",
    "%matplotlib inline"
   ]
  },
  {
   "cell_type": "code",
   "execution_count": 47,
   "metadata": {},
   "outputs": [],
   "source": [
    "sample=128\n",
    "\n",
    "xml_dir = '/Users/missbamboo/Desktop/intel/ocr/ocr-digital-display/VOC2007/Annotations'\n",
    "os.chdir(xml_dir)\n",
    "\n",
    "for i in range (9): \n",
    "    \n",
    "    src = '00'+ str(i) +'000.xml'\n",
    "    \n",
    "    for j in range (sample):\n",
    "        index = j+1\n",
    "        if j < 10:\n",
    "            j = '00'+ str(index)\n",
    "        elif j < 100:\n",
    "            j = '0'+ str(index)\n",
    "        else:\n",
    "            j = str(index)\n",
    "            \n",
    "        des = '00'+ str(i) + index +'.xml'\n",
    "        copyfile(src, des)\n",
    "        \n",
    "        # edit file\n",
    "        tree = ET.parse(des)\n",
    "        root = tree.getroot()\n",
    "        \n",
    "        file_name = root.find(\"filename\")\n",
    "        file_name.text =  '00'+ str(i) + index +'.jpg'\n",
    "        \n",
    "        \n",
    "        file_path = root.find(\"path\")\n",
    "        file_path.text='/Users/missbamboo/Desktop/intel/ocr/ocr-digital-display/VOC2007/JPEGImages/00'+ str(i) + j +'.jpg'\n",
    "        tree.write(des)\n",
    "       \n",
    "        "
   ]
  },
  {
   "cell_type": "code",
   "execution_count": null,
   "metadata": {},
   "outputs": [],
   "source": []
  },
  {
   "cell_type": "code",
   "execution_count": null,
   "metadata": {},
   "outputs": [],
   "source": []
  },
  {
   "cell_type": "code",
   "execution_count": 45,
   "metadata": {},
   "outputs": [],
   "source": [
    "def clear(dir):\n",
    "    filesToRemove = [os.path.join(dir, file) for file in os.listdir(dir)]\n",
    "    for file in filesToRemove :\n",
    "        os.remove(file)\n",
    "clear(xml_dir)"
   ]
  },
  {
   "cell_type": "code",
   "execution_count": null,
   "metadata": {},
   "outputs": [],
   "source": []
  },
  {
   "cell_type": "code",
   "execution_count": null,
   "metadata": {},
   "outputs": [],
   "source": []
  }
 ],
 "metadata": {
  "kernelspec": {
   "display_name": "Python 3",
   "language": "python",
   "name": "python3"
  },
  "language_info": {
   "codemirror_mode": {
    "name": "ipython",
    "version": 3
   },
   "file_extension": ".py",
   "mimetype": "text/x-python",
   "name": "python",
   "nbconvert_exporter": "python",
   "pygments_lexer": "ipython3",
   "version": "3.6.0"
  }
 },
 "nbformat": 4,
 "nbformat_minor": 2
}
