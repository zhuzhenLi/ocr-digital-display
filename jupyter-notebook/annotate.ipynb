{
 "cells": [
  {
   "cell_type": "code",
   "execution_count": 112,
   "metadata": {},
   "outputs": [],
   "source": [
    "# imports\n",
    "from PIL import Image\n",
    "from matplotlib.pyplot import *\n",
    "import matplotlib.pyplot as plt\n",
    "import matplotlib.patches as patches\n",
    "import random\n",
    "import collections\n",
    "import os, shutil\n",
    "from shutil import copyfile\n",
    "from distutils.dir_util import copy_tree\n",
    "import xml.etree.ElementTree as ET\n",
    "import pdb\n",
    "import shutil\n",
    "%matplotlib inline"
   ]
  },
  {
   "cell_type": "code",
   "execution_count": 137,
   "metadata": {},
   "outputs": [],
   "source": [
    "sample = 128\n",
    "def _main():\n",
    "    for i in range (10):\n",
    "        src = '00'+ str(i) +'000.xml'\n",
    "        for j in range (sample):\n",
    "            index = j+1\n",
    "            if index < 10:\n",
    "                index = '00'+ str(index)\n",
    "            elif index < 100:\n",
    "                index = '0'+ str(index)\n",
    "            else:\n",
    "                index = str(index)\n",
    "            \n",
    "            des = '00'+ str(i) + index +'.xml'\n",
    "            copyfile(src, des)\n",
    "        \n",
    "            # edit file\n",
    "            tree = ET.parse(des)\n",
    "            root = tree.getroot()\n",
    "        \n",
    "            file_name = root.find(\"filename\")\n",
    "            file_name.text =  '00'+ str(i) + index +'.jpg'\n",
    "        \n",
    "        \n",
    "            file_path = root.find(\"path\")\n",
    "            file_path.text='/Users/missbamboo/Desktop/intel/ocr/ocr-digital-display/VOC2007/JPEGImages/00'+ str(i) + index +'.jpg'\n",
    "            \n",
    "            for width in root.iter('width'):\n",
    "                width.text = str(300)\n",
    "            \n",
    "            for height in root.iter(\"height\"):\n",
    "                height.text = str(400)\n",
    "            \n",
    "            tree.write(des)\n",
    "\n",
    "\n",
    "def clear(dir):\n",
    "    filesToRemove = [os.path.join(dir, file) for file in os.listdir(dir)]\n",
    "    for file in filesToRemove :\n",
    "        os.remove(file)\n",
    "            \n",
    "            \n",
    "if __name__ == '__main__':\n",
    "    xml_dir = '/Users/missbamboo/Desktop/intel/ocr/ocr-digital-display/VOC2007/Annotations'\n",
    "   # clear(xml_dir)\n",
    "    os.chdir(xml_dir)\n",
    "    _main()"
   ]
  },
  {
   "cell_type": "code",
   "execution_count": 136,
   "metadata": {},
   "outputs": [],
   "source": []
  },
  {
   "cell_type": "code",
   "execution_count": 90,
   "metadata": {},
   "outputs": [],
   "source": [
    "\n"
   ]
  },
  {
   "cell_type": "code",
   "execution_count": null,
   "metadata": {},
   "outputs": [],
   "source": []
  },
  {
   "cell_type": "code",
   "execution_count": null,
   "metadata": {},
   "outputs": [],
   "source": [
    "    \n",
    "\n",
    "\n",
    "\n"
   ]
  },
  {
   "cell_type": "code",
   "execution_count": null,
   "metadata": {},
   "outputs": [],
   "source": []
  },
  {
   "cell_type": "code",
   "execution_count": null,
   "metadata": {},
   "outputs": [],
   "source": []
  },
  {
   "cell_type": "code",
   "execution_count": null,
   "metadata": {},
   "outputs": [],
   "source": []
  }
 ],
 "metadata": {
  "kernelspec": {
   "display_name": "Python 3",
   "language": "python",
   "name": "python3"
  },
  "language_info": {
   "codemirror_mode": {
    "name": "ipython",
    "version": 3
   },
   "file_extension": ".py",
   "mimetype": "text/x-python",
   "name": "python",
   "nbconvert_exporter": "python",
   "pygments_lexer": "ipython3",
   "version": "3.6.0"
  }
 },
 "nbformat": 4,
 "nbformat_minor": 2
}
